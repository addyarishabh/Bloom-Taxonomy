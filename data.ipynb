{
 "cells": [
  {
   "cell_type": "code",
   "execution_count": 6,
   "id": "dbc18838",
   "metadata": {},
   "outputs": [
    {
     "name": "stdout",
     "output_type": "stream",
     "text": [
      "✅ Excel file 'questions2.xlsx' created successfully.\n"
     ]
    }
   ],
   "source": [
    "import pandas as pd\n",
    "\n",
    "questions = [\n",
    "    \"What are the main colors of the rainbow?\", \"Explain the process of photosynthesis in simple terms.\",\n",
    "    \"Use the formula for area to calculate the area of a rectangle with length 10cm and width 5cm.\",\n",
    "    \"Compare and contrast the characters of Romeo and Juliet.\", \"Assess the effectiveness of the current environmental policies.\",\n",
    "    \"Design a new type of sustainable building.\", \"List the capital cities of the European Union.\",\n",
    "    \"Summarize the plot of the novel 'Pride and Prejudice'.\",\n",
    "    \"Apply the Pythagorean theorem to solve a right-angled triangle problem.\", \"Differentiate between mitosis and meiosis.\",\n",
    "    \"Critique the arguments presented in a political debate.\", \"Develop a plan for a community garden.\",\n",
    "    \"Define the term 'metamorphosis'.\", \"Describe the water cycle.\", \"Solve the algebraic equation 2x + 5 = 15.\",\n",
    "    \"Identify the key themes in Shakespeare's 'Hamlet'.\", \"Judge the value of a piece of art based on its historical context.\",\n",
    "    \"Compose a short piece of music in a specific style.\", \"Name the planets in our solar system.\", \"Explain the concept of gravity.\",\n",
    "    \"Use the rules of grammar to correct the following sentence: 'Me and him went to the store'.\",\n",
    "    \"Break down the components of a scientific experiment.\", \"Evaluate the reliability of a news source.\",\n",
    "    \"Invent a new type of renewable energy source.\", \"Recall the elements in the periodic table.\",\n",
    "    \"Paraphrase the meaning of a complex poem.\", \"Demonstrate how to use a software application.\",\n",
    "    \"Classify different types of rocks.\", \"Appraise the performance of a sports team.\",\n",
    "    \"Formulate a hypothesis for a scientific investigation.\", \"State the rules of a specific sport.\",\n",
    "    \"Interpret a graph showing economic data.\", \"Calculate the simple interest on a loan.\", \"Distinguish between fact and opinion.\",\n",
    "    \"Justify a decision made in a historical event.\", \"Write a short story using a given theme.\",\n",
    "    \"What is the chemical symbol for water?\", \"Elaborate on the concept of democracy.\",\n",
    "    \"Implement a computer program to solve a problem.\", \"Diagram the structure of a cell.\",\n",
    "    \"Debate the ethical implications of genetic engineering.\", \"Create a marketing plan for a new product.\",\n",
    "    \"Identify the continents of the world.\", \"Explain the process of evolution.\",\n",
    "    \"Apply the principles of design to create a website layout.\", \"Compare and contrast different economic systems.\",\n",
    "    \"Rate the quality of a movie based on its cinematography.\", \"Generate a list of possible solutions to a social problem.\",\n",
    "    \"List the major rivers of Africa.\", \"Describe the stages of human development.\",\n",
    "    \"Use the formula for speed to calculate the time taken to travel a distance.\",\n",
    "    \"Outline the steps involved in a scientific method.\", \"Assess the impact of social media on society.\",\n",
    "    \"Produce a documentary on a historical event.\", \"What is the definition of photosynthesis?\",\n",
    "    \"Summarize the key points of a lecture.\", \"Demonstrate how to perform a first aid procedure.\",\n",
    "    \"Categorize different types of animals.\", \"Defend a position in a philosophical argument.\",\n",
    "    \"Construct a model of a solar system.\", \"Name the bones in the human skeleton.\",\n",
    "    \"Explain the principles of supply and demand.\", \"Solve a word problem involving fractions.\",\n",
    "    \"Analyze the causes of a historical event.\", \"Review a book and give your opinion.\",\n",
    "    \"Compose a poem using a specific rhyme scheme.\", \"What are the main ingredients of concrete?\",\n",
    "    \"Describe the process of digestion.\", \"Apply the laws of motion to solve a physics problem.\",\n",
    "    \"Identify the patterns in a set of data.\", \"Justify your choice of a candidate in an election.\",\n",
    "    \"Develop a business plan for a startup.\", \"What is the atomic number of carbon?\",\n",
    "    \"Paraphrase the meaning of a complex legal document.\", \"Demonstrate how to use a spreadsheet to create a chart.\",\n",
    "    \"Differentiate between different types of clouds.\", \"Critique the design of a building.\",\n",
    "    \"Design a new type of transportation system.\", \"List the elements in the Earth's core.\",\n",
    "    \"Explain the concept of climate change.\", \"Use the rules of punctuation to correct a paragraph.\",\n",
    "    \"Break down the steps of a chemical reaction.\", \"Evaluate the effectiveness of a public health campaign.\",\n",
    "    \"Invent a new type of medical device.\", \"What are the primary colors?\", \"Summarize the themes in a novel.\",\n",
    "    \"Apply the rules of probability to solve a problem.\", \"Identify the literary devices used in a poem.\",\n",
    "    \"Appraise the value of a historical artifact.\", \"Formulate a research question for a study.\",\n",
    "    \"What is the formula for calculating density?\", \"Elaborate on the principles of democracy.\",\n",
    "    \"Implement a computer algorithm to sort data.\", \"Diagram the structure of a flower.\",\n",
    "    \"Debate the ethical implications of artificial intelligence.\", \"Create a storyboard for a film.\",\n",
    "    \"What are the major oceans of the world?\", \"Describe the process of cellular respiration.\",\n",
    "    \"Use the rules of trigonometry to solve a problem.\", \"Outline the steps involved in a scientific experiment.\",\n",
    "    \"Assess the impact of globalization on local economies.\", \"Produce a documentary on a current social issue.\"\n",
    "]\n",
    "\n",
    "labels = [\n",
    "    1, 2, 3, 4, 5, 6, 1, 2, 3, 4,\n",
    "    5, 6, 1, 2, 3, 4, 5, 6, 1, 2,\n",
    "    3, 4, 5, 6, 1, 2, 3, 4, 5, 6,\n",
    "    1, 2, 3, 4, 5, 6, 1, 2, 3, 4,\n",
    "    5, 6, 1, 2, 3, 4, 5, 6, 1, 2,\n",
    "    3, 4, 5, 6, 1, 2, 3, 4, 5, 6,\n",
    "    1, 2, 3, 4, 5, 6, 1, 2, 3, 4,\n",
    "    5, 6, 1, 2, 3, 4, 5, 6, 1, 2,\n",
    "    3, 4, 5, 6, 1, 2, 3, 4, 5, 6,\n",
    "    1, 2, 3, 4, 5, 6, 1, 2, 3, 4,\n",
    "    5, 6\n",
    "]\n",
    "\n",
    "# Create DataFrame\n",
    "df = pd.DataFrame({'Question': questions, 'K-Label (Actual)': labels})\n",
    "\n",
    "# Export to Excel\n",
    "df.to_excel(\"questions2.xlsx\", index=False)\n",
    "\n",
    "print(\"✅ Excel file 'questions2.xlsx' created successfully.\")\n"
   ]
  },
  {
   "cell_type": "code",
   "execution_count": 1,
   "id": "d041ce35",
   "metadata": {},
   "outputs": [
    {
     "name": "stdout",
     "output_type": "stream",
     "text": [
      "Python version: 3.9.12 (main, Apr  4 2022, 05:22:27) [MSC v.1916 64 bit (AMD64)]\n"
     ]
    }
   ],
   "source": [
    "import sys\n",
    "print(\"Python version:\", sys.version)"
   ]
  },
  {
   "cell_type": "code",
   "execution_count": null,
   "id": "bad1dc55",
   "metadata": {},
   "outputs": [],
   "source": []
  }
 ],
 "metadata": {
  "kernelspec": {
   "display_name": "CNN",
   "language": "python",
   "name": "python3"
  },
  "language_info": {
   "codemirror_mode": {
    "name": "ipython",
    "version": 3
   },
   "file_extension": ".py",
   "mimetype": "text/x-python",
   "name": "python",
   "nbconvert_exporter": "python",
   "pygments_lexer": "ipython3",
   "version": "3.9.12"
  }
 },
 "nbformat": 4,
 "nbformat_minor": 5
}
